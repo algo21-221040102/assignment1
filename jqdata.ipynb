{
 "cells": [
  {
   "cell_type": "code",
   "execution_count": 5,
   "id": "d846ceb3",
   "metadata": {},
   "outputs": [],
   "source": [
    "import pandas as pd\n",
    "import tushare as ts\n",
    "import jqdatasdk     # JoinQuant SDK\n",
    "import os"
   ]
  },
  {
   "cell_type": "code",
   "execution_count": 8,
   "id": "ca97193e",
   "metadata": {},
   "outputs": [
    {
     "name": "stdout",
     "output_type": "stream",
     "text": [
      "auth success \n",
      "{'total': 500000, 'spare': 500000}\n"
     ]
    }
   ],
   "source": [
    "jqdatasdk.auth(\"18210776566\", \"Xyt970224\") # user & password\n",
    "count_num = jqdatasdk.get_query_count() # JQ总共能查多少data 还剩能查多少data\n",
    "print(count_num)"
   ]
  },
  {
   "cell_type": "code",
   "execution_count": 9,
   "id": "e5012cf3",
   "metadata": {},
   "outputs": [
    {
     "name": "stderr",
     "output_type": "stream",
     "text": [
      "D:\\anaconda\\lib\\site-packages\\jqdatasdk\\api.py:34: PanelObsoleteWarning: 当前环境 pandas 版本高于 0.25，get_price 与 get_fundamentals_continuously 接口的 panel 参数将固定为 False（0.25 及以上版本的 pandas 不再支持 panel，如使用该数据结构和相关函数请注意修改）\n",
      "  warnings.warn(PandasChecker.VERSION_NOTICE_MESSAGE, PanelObsoleteWarning)\n"
     ]
    },
    {
     "data": {
      "text/html": [
       "<div>\n",
       "<style scoped>\n",
       "    .dataframe tbody tr th:only-of-type {\n",
       "        vertical-align: middle;\n",
       "    }\n",
       "\n",
       "    .dataframe tbody tr th {\n",
       "        vertical-align: top;\n",
       "    }\n",
       "\n",
       "    .dataframe thead th {\n",
       "        text-align: right;\n",
       "    }\n",
       "</style>\n",
       "<table border=\"1\" class=\"dataframe\">\n",
       "  <thead>\n",
       "    <tr style=\"text-align: right;\">\n",
       "      <th></th>\n",
       "      <th>open</th>\n",
       "      <th>close</th>\n",
       "      <th>high</th>\n",
       "      <th>low</th>\n",
       "      <th>volume</th>\n",
       "      <th>money</th>\n",
       "    </tr>\n",
       "  </thead>\n",
       "  <tbody>\n",
       "    <tr>\n",
       "      <th>2005-09-01</th>\n",
       "      <td>928.52</td>\n",
       "      <td>944.56</td>\n",
       "      <td>944.95</td>\n",
       "      <td>926.06</td>\n",
       "      <td>2.230638e+09</td>\n",
       "      <td>1.055868e+10</td>\n",
       "    </tr>\n",
       "    <tr>\n",
       "      <th>2005-09-02</th>\n",
       "      <td>945.98</td>\n",
       "      <td>947.87</td>\n",
       "      <td>947.92</td>\n",
       "      <td>941.31</td>\n",
       "      <td>1.861444e+09</td>\n",
       "      <td>8.864774e+09</td>\n",
       "    </tr>\n",
       "    <tr>\n",
       "      <th>2005-09-05</th>\n",
       "      <td>949.08</td>\n",
       "      <td>952.72</td>\n",
       "      <td>952.99</td>\n",
       "      <td>944.63</td>\n",
       "      <td>1.784332e+09</td>\n",
       "      <td>8.242226e+09</td>\n",
       "    </tr>\n",
       "    <tr>\n",
       "      <th>2005-09-06</th>\n",
       "      <td>953.41</td>\n",
       "      <td>936.61</td>\n",
       "      <td>956.30</td>\n",
       "      <td>934.97</td>\n",
       "      <td>2.122226e+09</td>\n",
       "      <td>1.058399e+10</td>\n",
       "    </tr>\n",
       "    <tr>\n",
       "      <th>2005-09-07</th>\n",
       "      <td>934.99</td>\n",
       "      <td>952.76</td>\n",
       "      <td>952.90</td>\n",
       "      <td>932.65</td>\n",
       "      <td>1.960847e+09</td>\n",
       "      <td>9.956808e+09</td>\n",
       "    </tr>\n",
       "  </tbody>\n",
       "</table>\n",
       "</div>"
      ],
      "text/plain": [
       "              open   close    high     low        volume         money\n",
       "2005-09-01  928.52  944.56  944.95  926.06  2.230638e+09  1.055868e+10\n",
       "2005-09-02  945.98  947.87  947.92  941.31  1.861444e+09  8.864774e+09\n",
       "2005-09-05  949.08  952.72  952.99  944.63  1.784332e+09  8.242226e+09\n",
       "2005-09-06  953.41  936.61  956.30  934.97  2.122226e+09  1.058399e+10\n",
       "2005-09-07  934.99  952.76  952.90  932.65  1.960847e+09  9.956808e+09"
      ]
     },
     "execution_count": 9,
     "metadata": {},
     "output_type": "execute_result"
    }
   ],
   "source": [
    "data = jqdatasdk.get_price(\"000300.XSHG\", start_date=\"2005-09-01\", end_date=\"2012-03-15\", frequency=\"daily\")\n",
    "data.head()"
   ]
  },
  {
   "cell_type": "code",
   "execution_count": 10,
   "id": "beea74a0",
   "metadata": {},
   "outputs": [
    {
     "data": {
      "text/plain": [
       "DatetimeIndex(['2005-09-01', '2005-09-02', '2005-09-05', '2005-09-06',\n",
       "               '2005-09-07', '2005-09-08', '2005-09-09', '2005-09-12',\n",
       "               '2005-09-13', '2005-09-14',\n",
       "               ...\n",
       "               '2012-03-02', '2012-03-05', '2012-03-06', '2012-03-07',\n",
       "               '2012-03-08', '2012-03-09', '2012-03-12', '2012-03-13',\n",
       "               '2012-03-14', '2012-03-15'],\n",
       "              dtype='datetime64[ns]', length=1588, freq=None)"
      ]
     },
     "execution_count": 10,
     "metadata": {},
     "output_type": "execute_result"
    }
   ],
   "source": [
    "data.index"
   ]
  },
  {
   "cell_type": "code",
   "execution_count": 11,
   "id": "d325c802",
   "metadata": {},
   "outputs": [],
   "source": [
    "data.to_csv(\"/Users/肖煜同/Desktop/000300_daily.csv\", index = True)"
   ]
  },
  {
   "cell_type": "code",
   "execution_count": 12,
   "id": "7ef0ce46",
   "metadata": {},
   "outputs": [
    {
     "data": {
      "text/html": [
       "<div>\n",
       "<style scoped>\n",
       "    .dataframe tbody tr th:only-of-type {\n",
       "        vertical-align: middle;\n",
       "    }\n",
       "\n",
       "    .dataframe tbody tr th {\n",
       "        vertical-align: top;\n",
       "    }\n",
       "\n",
       "    .dataframe thead th {\n",
       "        text-align: right;\n",
       "    }\n",
       "</style>\n",
       "<table border=\"1\" class=\"dataframe\">\n",
       "  <thead>\n",
       "    <tr style=\"text-align: right;\">\n",
       "      <th></th>\n",
       "      <th>DateTime</th>\n",
       "      <th>Open</th>\n",
       "      <th>Close</th>\n",
       "      <th>High</th>\n",
       "      <th>Low</th>\n",
       "      <th>Volume</th>\n",
       "      <th>Money</th>\n",
       "    </tr>\n",
       "  </thead>\n",
       "  <tbody>\n",
       "    <tr>\n",
       "      <th>0</th>\n",
       "      <td>2005-09-01</td>\n",
       "      <td>928.52</td>\n",
       "      <td>944.56</td>\n",
       "      <td>944.95</td>\n",
       "      <td>926.06</td>\n",
       "      <td>2.230638e+09</td>\n",
       "      <td>1.055868e+10</td>\n",
       "    </tr>\n",
       "    <tr>\n",
       "      <th>1</th>\n",
       "      <td>2005-09-02</td>\n",
       "      <td>945.98</td>\n",
       "      <td>947.87</td>\n",
       "      <td>947.92</td>\n",
       "      <td>941.31</td>\n",
       "      <td>1.861444e+09</td>\n",
       "      <td>8.864774e+09</td>\n",
       "    </tr>\n",
       "    <tr>\n",
       "      <th>2</th>\n",
       "      <td>2005-09-05</td>\n",
       "      <td>949.08</td>\n",
       "      <td>952.72</td>\n",
       "      <td>952.99</td>\n",
       "      <td>944.63</td>\n",
       "      <td>1.784332e+09</td>\n",
       "      <td>8.242226e+09</td>\n",
       "    </tr>\n",
       "    <tr>\n",
       "      <th>3</th>\n",
       "      <td>2005-09-06</td>\n",
       "      <td>953.41</td>\n",
       "      <td>936.61</td>\n",
       "      <td>956.30</td>\n",
       "      <td>934.97</td>\n",
       "      <td>2.122226e+09</td>\n",
       "      <td>1.058399e+10</td>\n",
       "    </tr>\n",
       "    <tr>\n",
       "      <th>4</th>\n",
       "      <td>2005-09-07</td>\n",
       "      <td>934.99</td>\n",
       "      <td>952.76</td>\n",
       "      <td>952.90</td>\n",
       "      <td>932.65</td>\n",
       "      <td>1.960847e+09</td>\n",
       "      <td>9.956808e+09</td>\n",
       "    </tr>\n",
       "  </tbody>\n",
       "</table>\n",
       "</div>"
      ],
      "text/plain": [
       "     DateTime    Open   Close    High     Low        Volume         Money\n",
       "0  2005-09-01  928.52  944.56  944.95  926.06  2.230638e+09  1.055868e+10\n",
       "1  2005-09-02  945.98  947.87  947.92  941.31  1.861444e+09  8.864774e+09\n",
       "2  2005-09-05  949.08  952.72  952.99  944.63  1.784332e+09  8.242226e+09\n",
       "3  2005-09-06  953.41  936.61  956.30  934.97  2.122226e+09  1.058399e+10\n",
       "4  2005-09-07  934.99  952.76  952.90  932.65  1.960847e+09  9.956808e+09"
      ]
     },
     "execution_count": 12,
     "metadata": {},
     "output_type": "execute_result"
    }
   ],
   "source": [
    "df_300 = pd.read_csv(\"000300_daily.csv\", header=0, names=[\"DateTime\", \"Open\", \"Close\", \"High\", \"Low\", \"Volume\", \"Money\"])\n",
    "df_300.head()"
   ]
  },
  {
   "cell_type": "code",
   "execution_count": null,
   "id": "6620d567",
   "metadata": {},
   "outputs": [],
   "source": []
  }
 ],
 "metadata": {
  "kernelspec": {
   "display_name": "Python 3 (ipykernel)",
   "language": "python",
   "name": "python3"
  },
  "language_info": {
   "codemirror_mode": {
    "name": "ipython",
    "version": 3
   },
   "file_extension": ".py",
   "mimetype": "text/x-python",
   "name": "python",
   "nbconvert_exporter": "python",
   "pygments_lexer": "ipython3",
   "version": "3.9.7"
  }
 },
 "nbformat": 4,
 "nbformat_minor": 5
}
